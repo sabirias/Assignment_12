{
 "cells": [
  {
   "cell_type": "code",
   "execution_count": null,
   "id": "e532673d-8f48-41cb-b576-58e1c82c4053",
   "metadata": {},
   "outputs": [],
   "source": [
    "Q1. What is an Expectin in python? write the difference between Expectons and Syntax errors.a"
   ]
  },
  {
   "cell_type": "markdown",
   "id": "60a4475e-0795-4999-a7a9-f845c8e80072",
   "metadata": {},
   "source": [
    "ANS:- An \"Exception\" in Python refers to an error that occurs during the execution of a program.\n",
    "      Exceptions can happen for various reasons, such as invalid input, division by zero, or accessing\n",
    "      an undefined variable.\n",
    "\n",
    "1. Syntax Errors:\n",
    "   - Definition: Syntax errors occur when the Python interpreter encounters code that violates the\n",
    "                 language's syntax rules. These errors prevent the program from running at all.\n",
    "   - Cause: Syntax errors result from typos, missing colons, incorrect indentation, or other violations\n",
    "            of Python's grammar rules.\n",
    "   - Example:\n",
    "     print(\"Hello, World!\"\n",
    "     # Missing closing parenthesis\n",
    "\n",
    "2. Exceptions:\n",
    "   - Definition: Exceptions are runtime errors that occur during program execution. Unlike syntax errors,\n",
    "                 exceptions allow the program to run but may cause it to terminate unexpectedly.\n",
    "   - Cause: Exceptions can arise due to various reasons, such as division by zero, accessing an index\n",
    "            out of range, or attempting to open a non-existent file.\n",
    "   - Example:\n",
    "     try:\n",
    "         result = 10 / 0\n",
    "     except ZeroDivisionError:\n",
    "         print(\"Cannot divide by zero!\")\n",
    "\n",
    "In summary, syntax errors prevent the program from running, while exceptions occur during program execution \n",
    "and can be handled using `try` and `except` blocks."
   ]
  },
  {
   "cell_type": "code",
   "execution_count": null,
   "id": "a6237f8f-157d-4513-ad17-ff87f92bba81",
   "metadata": {},
   "outputs": [],
   "source": [
    "Q2. What happends when exception is not handled? Explain with an Example."
   ]
  },
  {
   "cell_type": "markdown",
   "id": "2573d481-9c52-44a4-b5a9-61db21c59b95",
   "metadata": {},
   "source": [
    "ANS:- When an exception is not handled in a program, it typically results in the termination of the program and the generation of an       error message or traceback. The program stops its normal execution flow, and the runtime environment displays information            about the unhandled exception.\n",
    "\n",
    "Example:\n",
    "\n",
    "def divide_numbers(a, b):\n",
    "    result = a / b\n",
    "    return result\n",
    "\n",
    "# Example where an exception is not handled\n",
    "try:\n",
    "    result = divide_numbers(10, 0)  # Attempting to divide by zero\n",
    "    print(\"Result:\", result)\n",
    "except ZeroDivisionError as e:\n",
    "    print(\"Error:\", e)\n",
    "\n",
    "In this example, the 'divide_numbers' function attempts to perform a division operation, \n",
    "and it will raise a \"ZeroDivisionError\" if the second argument ('b') is zero. However, \n",
    "in the 'try' block, there is no specific handling for the \"ZeroDivisionError\". If an exception occurs,\n",
    "the program will terminate, and the default error message will be displayed:\n",
    "\n",
    "Traceback (most recent call last):\r\n",
    "  File \"example.py\", line 8, in <module>\r\n",
    "    result = divide_numbers(10, 0)  # Attempting to divide by zero\r\n",
    "  File \"example.py\", line 2, in divide_numbers\r\n",
    "    result = a / b\r\n",
    "ZeroDivisionError: division by\n",
    "\n",
    "In this case, the exception is not handled, and the default Python behavior is to print the traceback to the console, indicating the location in the code where the exception occurred (File \"example.py\", line 2), the type of exception (ZeroDivisionError), and a description of the error (division by zero). The program stops execution at this point. zero\r\n",
    "\n"
   ]
  },
  {
   "cell_type": "code",
   "execution_count": null,
   "id": "34bc904d-1a72-47e7-92b9-10aea8be958d",
   "metadata": {},
   "outputs": [],
   "source": [
    "Q3. Which python statements are used to catch the and handle the Exception? Explain with an Example."
   ]
  },
  {
   "cell_type": "markdown",
   "id": "eb2a3767-cd1b-493c-a48f-cb3ef302142c",
   "metadata": {},
   "source": [
    "ANS:- In Python, the 'try', 'except', 'else', and 'finally' statements are used to catch and handle exceptions. Here's an \n",
    "explanation of each:\n",
    "\n",
    "1. try: This block contains the code that might raise an exception. It is the section where you anticipate potential errors.\n",
    "\n",
    "2. except: This block is executed if an exception is raised in the 'try' block. You can have multiple 'except' blocks to handle different types of exceptions.\n",
    "\n",
    "3. else: This block is executed if no exceptions occur in the 'try' block. It follows all the 'except' blocks.\n",
    "\n",
    "4. finally: This block is executed whether an exception occurs or not. It is often used for cleanup operations that should be performed no matter what.\n",
    "\n",
    "Here's an example to demonstrate the usage of these statements:\n",
    "\n",
    "def divide_numbers(a, b):\n",
    "    try:\n",
    "        result = a / b\n",
    "    except ZeroDivisionError:\n",
    "        print(\"Error: Division by zero is not allowed.\")\n",
    "    except TypeError as e:\n",
    "        print(f\"Error: {e}\")\n",
    "    else:\n",
    "        print(\"Division successful. Result:\", result)\n",
    "    finally:\n",
    "        print(\"This block always executes, regardless of whether an exception occurred.\")\n",
    "\n",
    "# Example of handling exceptions\n",
    "divide_numbers(10, 2)  # Division successful. Result: 5.0\n",
    "divide_numbers(10, 0)  # Error: Division by zero is not allowed.\n",
    "divide_numbers(10, '2')  # Error: unsupported operand type(s) for /: 'int' and 'str'\n",
    "\n",
    "In this example:\n",
    "- The 'try' block attempts to perform the division operation.\n",
    "- The first 'except' block catches a 'ZeroDivisionError' if the division by zero occurs.\n",
    "- The second 'except' block catches a 'TypeError' if the division operation involves incompatible types.\n",
    "- The 'else' block prints the result if no exceptions occurred.\n",
    "- The 'finally' block always executes, providing a place for cleanup or finalization.\n",
    "\n",
    "This structure allows you to gracefully handle exceptions, take appropriate actions, and ensure that necessary cleanup is performed, even if an exception occurs."
   ]
  },
  {
   "cell_type": "code",
   "execution_count": null,
   "id": "fbfe724b-bcf4-48df-a6e7-bd3ca63ff69d",
   "metadata": {},
   "outputs": [],
   "source": [
    "Q4. Explain with an Example:\n",
    "\n",
    "a. try and else\n",
    "b. finally\n",
    "c. raise"
   ]
  },
  {
   "cell_type": "code",
   "execution_count": 9,
   "id": "e761d934-6455-4dc1-b3de-e12caabe9764",
   "metadata": {},
   "outputs": [
    {
     "name": "stdout",
     "output_type": "stream",
     "text": [
      "Result: 5.0\n",
      "Error: Cannot divide by zero!\n"
     ]
    }
   ],
   "source": [
    "'''a. Try and Else:\n",
    "\n",
    "The combination of try and else allows us to handle exceptions more precisely. The else block executes only\n",
    "if no exception occurs within the preceding try block.'''\n",
    "\n",
    "#Example:\n",
    "def divide(a, b):\n",
    "    try:\n",
    "        result = a / b\n",
    "    except ZeroDivisionError:\n",
    "        print(\"Error: Cannot divide by zero!\")\n",
    "    else:\n",
    "        print(f\"Result: {result}\")\n",
    "\n",
    "# Usage\n",
    "divide(10, 2)  \n",
    "divide(10, 0)  \n",
    "\n",
    "# In this example:\n",
    "# - The first call to 'divide(10, 2)' successfully divides, so the else block executes.\n",
    "# - The second call to 'divide(10, 0)' raises a ZeroDivisionError, so the except block handles it."
   ]
  },
  {
   "cell_type": "code",
   "execution_count": 7,
   "id": "c9c2e476-26ce-43e8-9ef8-eccc7dd005d8",
   "metadata": {},
   "outputs": [
    {
     "name": "stdout",
     "output_type": "stream",
     "text": [
      "Read content: Hello, World!\n",
      "Cleanup: File handling completed.\n",
      "File 'nonexistent.txt' not found.\n",
      "Cleanup: File handling completed.\n"
     ]
    }
   ],
   "source": [
    "'''b. Finally:\n",
    "\n",
    "The finally block always executes, regardless of whether an exception occurred or not. It's useful for cleanup\n",
    "tasks (e.g., closing files, releasing resources).'''\n",
    "\n",
    "#Example:\n",
    "with open(\"sample.txt\", 'w') as file:\n",
    "    file.write(\"Hello, World!\")\n",
    "    \n",
    "def read_file(filename):\n",
    "    try:\n",
    "        with open(filename, \"r\") as file:\n",
    "            content = file.read()\n",
    "            print(f\"Read content: {content}\")\n",
    "    except FileNotFoundError:\n",
    "        print(f\"File '{filename}' not found.\")\n",
    "    finally:\n",
    "        print(\"Cleanup: File handling completed.\")\n",
    "\n",
    "# Usage\n",
    "read_file(\"sample.txt\")  \n",
    "read_file(\"nonexistent.txt\")  \n"
   ]
  },
  {
   "cell_type": "code",
   "execution_count": 13,
   "id": "4aace407-4b6c-46b1-b155-39fc119219bb",
   "metadata": {},
   "outputs": [
    {
     "name": "stdout",
     "output_type": "stream",
     "text": [
      "Valid age: 30\n",
      "Value Error: Age cannot be negative.\n"
     ]
    }
   ],
   "source": [
    "'''c. Raise:\n",
    "\n",
    "The raise statement allows you to explicitly raise an exception. You can use it to create custom exceptions \n",
    "or propagate existing ones.'''\n",
    "\n",
    "#Example:\n",
    "def validate_age(age):\n",
    "    if age < 0:\n",
    "        raise ValueError(\"Age cannot be negative.\")\n",
    "    elif age > 120:\n",
    "        raise ValueError(\"Unrealistic age value.\")\n",
    "    else:\n",
    "        print(f\"Valid age: {age}\")\n",
    "\n",
    "# Usage\n",
    "try:\n",
    "    validate_age(30) \n",
    "    validate_age(-5)  \n",
    "except ValueError as e:\n",
    "    print(f\"Value Error: {e}\")\n",
    "\n",
    "# In this example:\n",
    "# - The raise statement is used to raise a ValueError with a custom message.\n",
    "# - The except block catches the raised exception and prints the error message.\n",
    "\n",
    "# The using try, except, else, finally, and raise allows to handle exceptions \n",
    "# effectively and maintain robust code."
   ]
  },
  {
   "cell_type": "code",
   "execution_count": null,
   "id": "7bdea2cb-56ad-43a5-bc65-def95d8ba731",
   "metadata": {},
   "outputs": [],
   "source": [
    "Q5. What are the Custom Exception in python? Why do we need the Custom Exceptions? Explain with an Example. "
   ]
  },
  {
   "cell_type": "code",
   "execution_count": 13,
   "id": "f24dfd1e-db63-4fa6-9cbd-1954d4053615",
   "metadata": {},
   "outputs": [
    {
     "name": "stdin",
     "output_type": "stream",
     "text": [
      "Enter a number:  12\n"
     ]
    },
    {
     "name": "stdout",
     "output_type": "stream",
     "text": [
      "Exception occurred: Invalid Age\n"
     ]
    }
   ],
   "source": [
    "\"\"\"In Python, \"custom exceptions\" allow developers to define their own error classes tailored to specific \n",
    "situations within their programs. These exceptions provide more informative error messages and help handle\n",
    "exceptional conditions in a more meaningful way.\n",
    "\n",
    "Here's why we need custom exceptions and an example to illustrate their usage:\n",
    "\n",
    "1. Why Custom Exceptions?\n",
    "   - Specificity: Built-in exceptions cover common cases, but custom exceptions allow us to address unique \n",
    "                      scenarios specific to our project.\n",
    "   - Clarity: Custom exceptions clearly communicate what went wrong and why to users.\n",
    "   - Modularity: Placing user-defined exceptions in separate files enhances code organization.\n",
    "\n",
    "2. Defining Custom Exceptions:\n",
    "   - To create a custom exception, we define a new class that inherits from the built-in 'Exception' class.\n",
    "   - Syntax: class CustomError(Exception):\n",
    "                    pass\n",
    "\n",
    "3. Example: Invalid Age Exception:\n",
    "   Let's create a custom exception called 'InvalidAgeException'. This exception will be raised when the user enters\n",
    "   an age less than 18 (indicating ineligibility to vote).\"\"\"\n",
    "\n",
    "class InvalidAgeException(Exception):\n",
    "    \"\"\"Raised when the input value is less than 18\"\"\"\n",
    "    pass\n",
    "\n",
    "try:\n",
    "    number = 18\n",
    "    input_num = int(input(\"Enter a number: \"))\n",
    "    if input_num < number:\n",
    "        raise InvalidAgeException\n",
    "    else:\n",
    "        print(\"Eligible to Vote\")\n",
    "except InvalidAgeException:\n",
    "     print(\"Exception occurred: Invalid Age\")\n",
    "\n",
    "\n",
    "\"\"\"- If the user input 'input_num' is greater than 18:\n",
    "     Enter a number: 45\n",
    "     Eligible to Vote\n",
    "   - If the user input 'input_num' is smaller than 18:\n",
    "     Enter a number: 14\n",
    "     Exception occurred: Invalid Age\n",
    "\n",
    "   In this example, we've defined the custom exception 'InvalidAgeException' by creating a new class\n",
    "   derived from the built-in 'Exception' class. When an exception occurs, the code inside the 'try' block\n",
    "   is skipped, and the 'except' block catches the user-defined exception.\n",
    "\n",
    "4. Customizing Exception Classes:\n",
    "   - We can further customize our custom exception class to accept additional arguments as needed.\n",
    "   - For more advanced customization, understanding object-oriented programming concepts is essential.\n",
    "\n",
    "Custom exceptions enhance error handling, improve code readability, and make debugging easier.\"\"\""
   ]
  },
  {
   "cell_type": "code",
   "execution_count": null,
   "id": "e06b6ef7-2b31-41a3-91c9-fea6ab3fef16",
   "metadata": {},
   "outputs": [],
   "source": [
    "Q6. Create a Custom Exception calss. Use this class to handle an Exception. "
   ]
  },
  {
   "cell_type": "code",
   "execution_count": 2,
   "id": "86b4ccbc-f0ff-42d9-a495-7d2e5d1dd13e",
   "metadata": {},
   "outputs": [
    {
     "name": "stdout",
     "output_type": "stream",
     "text": [
      "Custom Exception: Cannot divide by zero!\n",
      "Error: Division failed.\n"
     ]
    }
   ],
   "source": [
    "class CustomException(Exception):\n",
    "    \"\"\"Custom exception for demonstration purposes.\"\"\"\n",
    "    def __init__(self, message=\"An error occurred.\"):\n",
    "        super().__init__(message)\n",
    "\n",
    "def divide(a, b):\n",
    "    try:\n",
    "        if b == 0:\n",
    "            raise CustomException(\"Cannot divide by zero!\")\n",
    "        result = a / b\n",
    "        return result\n",
    "    except CustomException as ce:\n",
    "        print(f\"Custom Exception: {ce}\")\n",
    "        return None\n",
    "\n",
    "# Usage\n",
    "numerator = 10\n",
    "denominator = 0\n",
    "result = divide(numerator, denominator)\n",
    "if result is not None:\n",
    "    print(f\"Result: {result}\")\n",
    "else:\n",
    "    print(\"Error: Division failed.\")\n"
   ]
  }
 ],
 "metadata": {
  "kernelspec": {
   "display_name": "Python 3 (ipykernel)",
   "language": "python",
   "name": "python3"
  },
  "language_info": {
   "codemirror_mode": {
    "name": "ipython",
    "version": 3
   },
   "file_extension": ".py",
   "mimetype": "text/x-python",
   "name": "python",
   "nbconvert_exporter": "python",
   "pygments_lexer": "ipython3",
   "version": "3.12.0"
  }
 },
 "nbformat": 4,
 "nbformat_minor": 5
}
